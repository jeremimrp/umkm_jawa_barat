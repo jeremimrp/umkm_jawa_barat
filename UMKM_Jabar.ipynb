{
 "cells": [
  {
   "attachments": {},
   "cell_type": "markdown",
   "metadata": {},
   "source": [
    "# Dataset Information"
   ]
  },
  {
   "cell_type": "code",
   "execution_count": 19,
   "metadata": {},
   "outputs": [],
   "source": [
    "# Import Module\n",
    "import pandas as pd\n",
    "import numpy as np\n",
    "import matplotlib.pyplot as plt\n",
    "import seaborn as sns\n",
    "from tabulate import tabulate\n",
    "%matplotlib inline"
   ]
  },
  {
   "cell_type": "code",
   "execution_count": 20,
   "metadata": {},
   "outputs": [
    {
     "data": {
      "text/html": [
       "<div>\n",
       "<style scoped>\n",
       "    .dataframe tbody tr th:only-of-type {\n",
       "        vertical-align: middle;\n",
       "    }\n",
       "\n",
       "    .dataframe tbody tr th {\n",
       "        vertical-align: top;\n",
       "    }\n",
       "\n",
       "    .dataframe thead th {\n",
       "        text-align: right;\n",
       "    }\n",
       "</style>\n",
       "<table border=\"1\" class=\"dataframe\">\n",
       "  <thead>\n",
       "    <tr style=\"text-align: right;\">\n",
       "      <th></th>\n",
       "      <th>id</th>\n",
       "      <th>kode_provinsi</th>\n",
       "      <th>nama_provinsi</th>\n",
       "      <th>kode_kabupaten_kota</th>\n",
       "      <th>nama_kabupaten_kota</th>\n",
       "      <th>kategori_usaha</th>\n",
       "      <th>jumlah_umkm</th>\n",
       "      <th>satuan</th>\n",
       "      <th>tahun</th>\n",
       "    </tr>\n",
       "  </thead>\n",
       "  <tbody>\n",
       "    <tr>\n",
       "      <th>0</th>\n",
       "      <td>1</td>\n",
       "      <td>32</td>\n",
       "      <td>JAWA BARAT</td>\n",
       "      <td>3201</td>\n",
       "      <td>KABUPATEN BOGOR</td>\n",
       "      <td>AKSESORIS</td>\n",
       "      <td>927</td>\n",
       "      <td>UNIT</td>\n",
       "      <td>2017</td>\n",
       "    </tr>\n",
       "    <tr>\n",
       "      <th>1</th>\n",
       "      <td>2</td>\n",
       "      <td>32</td>\n",
       "      <td>JAWA BARAT</td>\n",
       "      <td>3201</td>\n",
       "      <td>KABUPATEN BOGOR</td>\n",
       "      <td>BATIK</td>\n",
       "      <td>927</td>\n",
       "      <td>UNIT</td>\n",
       "      <td>2017</td>\n",
       "    </tr>\n",
       "    <tr>\n",
       "      <th>2</th>\n",
       "      <td>3</td>\n",
       "      <td>32</td>\n",
       "      <td>JAWA BARAT</td>\n",
       "      <td>3201</td>\n",
       "      <td>KABUPATEN BOGOR</td>\n",
       "      <td>BORDIR</td>\n",
       "      <td>132</td>\n",
       "      <td>UNIT</td>\n",
       "      <td>2017</td>\n",
       "    </tr>\n",
       "    <tr>\n",
       "      <th>3</th>\n",
       "      <td>4</td>\n",
       "      <td>32</td>\n",
       "      <td>JAWA BARAT</td>\n",
       "      <td>3201</td>\n",
       "      <td>KABUPATEN BOGOR</td>\n",
       "      <td>CRAFT</td>\n",
       "      <td>33111</td>\n",
       "      <td>UNIT</td>\n",
       "      <td>2017</td>\n",
       "    </tr>\n",
       "    <tr>\n",
       "      <th>4</th>\n",
       "      <td>5</td>\n",
       "      <td>32</td>\n",
       "      <td>JAWA BARAT</td>\n",
       "      <td>3201</td>\n",
       "      <td>KABUPATEN BOGOR</td>\n",
       "      <td>FASHION</td>\n",
       "      <td>32316</td>\n",
       "      <td>UNIT</td>\n",
       "      <td>2017</td>\n",
       "    </tr>\n",
       "    <tr>\n",
       "      <th>...</th>\n",
       "      <td>...</td>\n",
       "      <td>...</td>\n",
       "      <td>...</td>\n",
       "      <td>...</td>\n",
       "      <td>...</td>\n",
       "      <td>...</td>\n",
       "      <td>...</td>\n",
       "      <td>...</td>\n",
       "      <td>...</td>\n",
       "    </tr>\n",
       "    <tr>\n",
       "      <th>1345</th>\n",
       "      <td>1346</td>\n",
       "      <td>32</td>\n",
       "      <td>JAWA BARAT</td>\n",
       "      <td>3279</td>\n",
       "      <td>KOTA BANJAR</td>\n",
       "      <td>KONVEKSI</td>\n",
       "      <td>1732</td>\n",
       "      <td>UNIT</td>\n",
       "      <td>2021</td>\n",
       "    </tr>\n",
       "    <tr>\n",
       "      <th>1346</th>\n",
       "      <td>1347</td>\n",
       "      <td>32</td>\n",
       "      <td>JAWA BARAT</td>\n",
       "      <td>3279</td>\n",
       "      <td>KOTA BANJAR</td>\n",
       "      <td>KULINER</td>\n",
       "      <td>12510</td>\n",
       "      <td>UNIT</td>\n",
       "      <td>2021</td>\n",
       "    </tr>\n",
       "    <tr>\n",
       "      <th>1347</th>\n",
       "      <td>1348</td>\n",
       "      <td>32</td>\n",
       "      <td>JAWA BARAT</td>\n",
       "      <td>3279</td>\n",
       "      <td>KOTA BANJAR</td>\n",
       "      <td>MAKANAN</td>\n",
       "      <td>9150</td>\n",
       "      <td>UNIT</td>\n",
       "      <td>2021</td>\n",
       "    </tr>\n",
       "    <tr>\n",
       "      <th>1348</th>\n",
       "      <td>1349</td>\n",
       "      <td>32</td>\n",
       "      <td>JAWA BARAT</td>\n",
       "      <td>3279</td>\n",
       "      <td>KOTA BANJAR</td>\n",
       "      <td>MINUMAN</td>\n",
       "      <td>1698</td>\n",
       "      <td>UNIT</td>\n",
       "      <td>2021</td>\n",
       "    </tr>\n",
       "    <tr>\n",
       "      <th>1349</th>\n",
       "      <td>1350</td>\n",
       "      <td>32</td>\n",
       "      <td>JAWA BARAT</td>\n",
       "      <td>3279</td>\n",
       "      <td>KOTA BANJAR</td>\n",
       "      <td>JASA/LAINNYA</td>\n",
       "      <td>3953</td>\n",
       "      <td>UNIT</td>\n",
       "      <td>2021</td>\n",
       "    </tr>\n",
       "  </tbody>\n",
       "</table>\n",
       "<p>1350 rows × 9 columns</p>\n",
       "</div>"
      ],
      "text/plain": [
       "        id  kode_provinsi nama_provinsi  kode_kabupaten_kota  \\\n",
       "0        1             32    JAWA BARAT                 3201   \n",
       "1        2             32    JAWA BARAT                 3201   \n",
       "2        3             32    JAWA BARAT                 3201   \n",
       "3        4             32    JAWA BARAT                 3201   \n",
       "4        5             32    JAWA BARAT                 3201   \n",
       "...    ...            ...           ...                  ...   \n",
       "1345  1346             32    JAWA BARAT                 3279   \n",
       "1346  1347             32    JAWA BARAT                 3279   \n",
       "1347  1348             32    JAWA BARAT                 3279   \n",
       "1348  1349             32    JAWA BARAT                 3279   \n",
       "1349  1350             32    JAWA BARAT                 3279   \n",
       "\n",
       "     nama_kabupaten_kota kategori_usaha  jumlah_umkm satuan  tahun  \n",
       "0        KABUPATEN BOGOR      AKSESORIS          927   UNIT   2017  \n",
       "1        KABUPATEN BOGOR          BATIK          927   UNIT   2017  \n",
       "2        KABUPATEN BOGOR         BORDIR          132   UNIT   2017  \n",
       "3        KABUPATEN BOGOR          CRAFT        33111   UNIT   2017  \n",
       "4        KABUPATEN BOGOR        FASHION        32316   UNIT   2017  \n",
       "...                  ...            ...          ...    ...    ...  \n",
       "1345         KOTA BANJAR       KONVEKSI         1732   UNIT   2021  \n",
       "1346         KOTA BANJAR        KULINER        12510   UNIT   2021  \n",
       "1347         KOTA BANJAR        MAKANAN         9150   UNIT   2021  \n",
       "1348         KOTA BANJAR        MINUMAN         1698   UNIT   2021  \n",
       "1349         KOTA BANJAR   JASA/LAINNYA         3953   UNIT   2021  \n",
       "\n",
       "[1350 rows x 9 columns]"
      ]
     },
     "execution_count": 20,
     "metadata": {},
     "output_type": "execute_result"
    }
   ],
   "source": [
    "# Import Dataset\n",
    "umkm = pd.read_csv(r'C:\\Users\\USER\\Documents\\Dataset for Practice\\data.jabarprov.go.id\\diskuk-od_17371_jml_ush_mikro_kecil_menengah_umkm__kabupatenkota_kateg_data.csv')\n",
    "umkm"
   ]
  },
  {
   "cell_type": "code",
   "execution_count": 21,
   "metadata": {},
   "outputs": [
    {
     "name": "stdout",
     "output_type": "stream",
     "text": [
      "<class 'pandas.core.frame.DataFrame'>\n",
      "RangeIndex: 1350 entries, 0 to 1349\n",
      "Data columns (total 9 columns):\n",
      " #   Column               Non-Null Count  Dtype \n",
      "---  ------               --------------  ----- \n",
      " 0   id                   1350 non-null   int64 \n",
      " 1   kode_provinsi        1350 non-null   int64 \n",
      " 2   nama_provinsi        1350 non-null   object\n",
      " 3   kode_kabupaten_kota  1350 non-null   int64 \n",
      " 4   nama_kabupaten_kota  1350 non-null   object\n",
      " 5   kategori_usaha       1350 non-null   object\n",
      " 6   jumlah_umkm          1350 non-null   int64 \n",
      " 7   satuan               1350 non-null   object\n",
      " 8   tahun                1350 non-null   int64 \n",
      "dtypes: int64(5), object(4)\n",
      "memory usage: 95.0+ KB\n"
     ]
    }
   ],
   "source": [
    "# Mengetahui informasi tipe data pada setiap fitur\n",
    "umkm.info()"
   ]
  },
  {
   "attachments": {},
   "cell_type": "markdown",
   "metadata": {},
   "source": [
    "Fitur id, kode provinsi, kode kabupaten kota, jumlah umkm, dan tahun merupakan tipe data numerik, yaitu INTEGER\n",
    "Fitur nama provinsi, nama kabupaten kota, kategori usaha, dan unit merupakan tipe data kategorik\n",
    "Dataset juga memiliki 1350 row\n",
    "\n",
    "Dataset di atas diambil dari Provinsi Jawa Barat sehingga fitur kode provinsi dan nama provinsi sama untuk setiap bari, tetapi mari kita pastikan apakah ada yang berbeda"
   ]
  },
  {
   "cell_type": "code",
   "execution_count": 22,
   "metadata": {},
   "outputs": [
    {
     "data": {
      "text/plain": [
       "JAWA BARAT    1350\n",
       "Name: nama_provinsi, dtype: int64"
      ]
     },
     "execution_count": 22,
     "metadata": {},
     "output_type": "execute_result"
    }
   ],
   "source": [
    "# Memastikan bahwa tidak ada provinsi lain selain jawa barat\n",
    "umkm['nama_provinsi'].value_counts()"
   ]
  },
  {
   "attachments": {},
   "cell_type": "markdown",
   "metadata": {},
   "source": [
    "Pada kolom nama provinsi, terdapat 1350 data untuk nama Jawa Barat. Oleh karenanya, nama dan kode provinsi sudah pasti Jawa Barat  "
   ]
  },
  {
   "cell_type": "code",
   "execution_count": 23,
   "metadata": {},
   "outputs": [
    {
     "data": {
      "text/plain": [
       "id                     0\n",
       "kode_provinsi          0\n",
       "nama_provinsi          0\n",
       "kode_kabupaten_kota    0\n",
       "nama_kabupaten_kota    0\n",
       "kategori_usaha         0\n",
       "jumlah_umkm            0\n",
       "satuan                 0\n",
       "tahun                  0\n",
       "dtype: int64"
      ]
     },
     "execution_count": 23,
     "metadata": {},
     "output_type": "execute_result"
    }
   ],
   "source": [
    "# Mengetahui apakah terdapat baris yang kosong\n",
    "umkm.isnull().sum()"
   ]
  },
  {
   "attachments": {},
   "cell_type": "markdown",
   "metadata": {},
   "source": [
    "Dapat dilihat, bahwa setiap baris pada dataset terisi atau tidak ada yang kosong\n",
    "\n",
    "Oleh karena itu, mari kita lihat insight apa yang dapat kita ambil dari dataset ini"
   ]
  },
  {
   "attachments": {},
   "cell_type": "markdown",
   "metadata": {},
   "source": [
    "# Exploration and Visualization Data"
   ]
  },
  {
   "cell_type": "code",
   "execution_count": 24,
   "metadata": {},
   "outputs": [
    {
     "name": "stdout",
     "output_type": "stream",
     "text": [
      "Banyaknya kategori usaha UMKM di Jawa Barat adalah 10\n"
     ]
    }
   ],
   "source": [
    "# Mengetahui berapa jenis kategori usaha pada seluruh umkm di Jawa Barat\n",
    "kategori = umkm['kategori_usaha'].unique().shape[0]\n",
    "print('Banyaknya kategori usaha UMKM di Jawa Barat adalah',kategori)"
   ]
  },
  {
   "cell_type": "code",
   "execution_count": 25,
   "metadata": {},
   "outputs": [
    {
     "name": "stdout",
     "output_type": "stream",
     "text": [
      "Banyaknya kabupaten kota di Jawa Barat adalah 27\n"
     ]
    }
   ],
   "source": [
    "# Mengetahui berapa banyak kabupaten kota di Jawa Barat\n",
    "kabupaten_kota = umkm['nama_kabupaten_kota'].unique().shape[0]\n",
    "print('Banyaknya kabupaten kota di Jawa Barat adalah',kabupaten_kota)"
   ]
  },
  {
   "attachments": {},
   "cell_type": "markdown",
   "metadata": {},
   "source": [
    "Mari kita lihat berapa banyak UMKM yang ada di Jawa Barat dari tahun 2017 - 2021"
   ]
  },
  {
   "cell_type": "code",
   "execution_count": 26,
   "metadata": {},
   "outputs": [
    {
     "name": "stdout",
     "output_type": "stream",
     "text": [
      "╒═════════╤═══════════════╕\n",
      "│   Tahun │ Banyak UMKM   │\n",
      "╞═════════╪═══════════════╡\n",
      "│    2017 │ 4,921,572     │\n",
      "├─────────┼───────────────┤\n",
      "│    2018 │ 5,226,081     │\n",
      "├─────────┼───────────────┤\n",
      "│    2019 │ 5,549,426     │\n",
      "├─────────┼───────────────┤\n",
      "│    2020 │ 5,892,787     │\n",
      "├─────────┼───────────────┤\n",
      "│    2021 │ 6,257,378     │\n",
      "╘═════════╧═══════════════╛\n"
     ]
    }
   ],
   "source": [
    "# Mengatahui tahun yang ada di dataset\n",
    "tahun = umkm['tahun'].unique()\n",
    "\n",
    "# List untuk menyimpan banyaknya UMKM pada masing-masing tahun\n",
    "banyak_umkm_jawa_barat = []\n",
    "\n",
    "# Looping untuk mengetahui banyaknya UMKM pada masing-masing tahun dan nilainya di input ke list banyak_umkm\n",
    "for t in tahun:\n",
    "    jawa_barat = umkm.loc[umkm['tahun']==t]\n",
    "    jumlah_jawa_barat = jawa_barat['jumlah_umkm'].sum()\n",
    "    banyak_umkm_jawa_barat.append(jumlah_jawa_barat)\n",
    "\n",
    "# Menampilkan hasil dalam bentuk tabel\n",
    "table_jawa_barat = {'Tahun':tahun,\n",
    "                    'Banyak UMKM': ['{:,}'.format(i) for i in banyak_umkm_jawa_barat]}\n",
    "print(tabulate(table_jawa_barat, headers='keys', tablefmt='fancy_grid'))"
   ]
  },
  {
   "cell_type": "code",
   "execution_count": 27,
   "metadata": {},
   "outputs": [
    {
     "name": "stdout",
     "output_type": "stream",
     "text": [
      "Pertumbuhan UMKM di Jawa Barat adalah 27.14 %\n"
     ]
    }
   ],
   "source": [
    "# Persentasi pertumbuhan UMKM di Jawa Barat dari tahun 2017-2021\n",
    "persen_jawa_barat = (banyak_umkm_jawa_barat[4]-banyak_umkm_jawa_barat[0])/banyak_umkm_jawa_barat[0] * 100\n",
    "print('Pertumbuhan UMKM di Jawa Barat adalah','{:.2f}'.format(persen_jawa_barat),'%')"
   ]
  },
  {
   "cell_type": "code",
   "execution_count": 28,
   "metadata": {},
   "outputs": [
    {
     "data": {
      "image/png": "[encoded data removed]",
      "text/plain": [
       "<Figure size 864x504 with 1 Axes>"
      ]
     },
     "metadata": {
      "needs_background": "light"
     },
     "output_type": "display_data"
    }
   ],
   "source": [
    "# Perbandingan banyak UMKM berdasarkan kabupaten/kota pada tahun 2021\n",
    "umkm_2021 = umkm.loc[umkm['tahun']==2021]\n",
    "banyak_umkm_2021 =[]\n",
    "for i in umkm['nama_kabupaten_kota'].unique():\n",
    "    banyak_umkm_2021.append(umkm_2021.loc[umkm_2021['nama_kabupaten_kota']==i].jumlah_umkm.sum())\n",
    "plt.figure(figsize=(12,7))\n",
    "plt.barh(umkm['nama_kabupaten_kota'].unique(),banyak_umkm_2021 , color='lightcoral')\n",
    "plt.title('Diagram Banyak UMKM di Jawa Barat tahun 2021')\n",
    "plt.ylabel('Kabupaten Kota')\n",
    "plt.xlabel('Banyak UMKM')\n",
    "plt.show()"
   ]
  },
  {
   "attachments": {},
   "cell_type": "markdown",
   "metadata": {},
   "source": [
    "Jumlah unit UMKM terbanyak terdapat di Kabupaten Bogor, disusul Kabupaten Bandung dan Kota Bandung. Sehingga hal ini menunjukkan di daerah tersebut aktivitas UMKM di daerah tersebut sangatlah baik "
   ]
  },
  {
   "cell_type": "code",
   "execution_count": 29,
   "metadata": {},
   "outputs": [
    {
     "data": {
      "image/png": "[encoded data removed]",
      "text/plain": [
       "<Figure size 864x504 with 1 Axes>"
      ]
     },
     "metadata": {
      "needs_background": "light"
     },
     "output_type": "display_data"
    }
   ],
   "source": [
    "# Perbandingan banyak UMKM berdasarkan kategori usaha pada tahun 2021\n",
    "umkm_2021 = umkm.loc[umkm['tahun']==2021]\n",
    "banyak_umkm_2021_jenis_usaha =[]\n",
    "for i in umkm['kategori_usaha'].unique():\n",
    "    banyak_umkm_2021_jenis_usaha.append(umkm_2021.loc[umkm_2021['kategori_usaha']==i].jumlah_umkm.sum())\n",
    "plt.figure(figsize=(12,7))\n",
    "plt.barh(umkm['kategori_usaha'].unique(),banyak_umkm_2021_jenis_usaha , color='lightcoral')\n",
    "plt.title('Diagram Banyak UMKM di Jawa Barat berdasarkan kategori usaha 2021')\n",
    "plt.ylabel('Kategori Usaha')\n",
    "plt.xlabel('Banyak UMKM')\n",
    "plt.show()"
   ]
  },
  {
   "cell_type": "code",
   "execution_count": 30,
   "metadata": {},
   "outputs": [
    {
     "name": "stdout",
     "output_type": "stream",
     "text": [
      "╒══════════════════╤═══════════════╕\n",
      "│ Kategori Usaha   │ Banyak UMKM   │\n",
      "╞══════════════════╪═══════════════╡\n",
      "│ AKSESORIS        │ 14,563        │\n",
      "├──────────────────┼───────────────┤\n",
      "│ BATIK            │ 14,563        │\n",
      "├──────────────────┼───────────────┤\n",
      "│ BORDIR           │ 2,081         │\n",
      "├──────────────────┼───────────────┤\n",
      "│ CRAFT            │ 520,235       │\n",
      "├──────────────────┼───────────────┤\n",
      "│ FASHION          │ 507,749       │\n",
      "├──────────────────┼───────────────┤\n",
      "│ KONVEKSI         │ 310,060       │\n",
      "├──────────────────┼───────────────┤\n",
      "│ KULINER          │ 2,239,089     │\n",
      "├──────────────────┼───────────────┤\n",
      "│ MAKANAN          │ 1,637,699     │\n",
      "├──────────────────┼───────────────┤\n",
      "│ MINUMAN          │ 303,820       │\n",
      "├──────────────────┼───────────────┤\n",
      "│ JASA/LAINNYA     │ 707,519       │\n",
      "╘══════════════════╧═══════════════╛\n"
     ]
    }
   ],
   "source": [
    "# Menampilkan hasil dalam bentuk tabel\n",
    "table_jawa_barat_2021 = {'Kategori Usaha':umkm['kategori_usaha'].unique(),\n",
    "                    'Banyak UMKM': ['{:,}'.format(i) for i in banyak_umkm_2021_jenis_usaha]}\n",
    "print(tabulate(table_jawa_barat_2021, headers='keys', tablefmt='fancy_grid'))"
   ]
  },
  {
   "cell_type": "code",
   "execution_count": 31,
   "metadata": {},
   "outputs": [
    {
     "data": {
      "text/plain": [
       "506347"
      ]
     },
     "execution_count": 31,
     "metadata": {},
     "output_type": "execute_result"
    }
   ],
   "source": [
    "umkm_2021.loc[umkm_2021['nama_kabupaten_kota']=='KABUPATEN BOGOR'].jumlah_umkm.sum()"
   ]
  },
  {
   "attachments": {},
   "cell_type": "markdown",
   "metadata": {},
   "source": [
    "Mari kita lihat berapa banyak UMKM yang ada di Kota Bogor dari tahun 2017 - 2021"
   ]
  },
  {
   "cell_type": "code",
   "execution_count": 32,
   "metadata": {},
   "outputs": [
    {
     "data": {
      "text/plain": [
       "[4921572, 5226081, 5549426, 5892787, 6257378]"
      ]
     },
     "execution_count": 32,
     "metadata": {},
     "output_type": "execute_result"
    }
   ],
   "source": [
    "banyak_umkm_jawa_barat"
   ]
  },
  {
   "cell_type": "code",
   "execution_count": 33,
   "metadata": {},
   "outputs": [
    {
     "name": "stdout",
     "output_type": "stream",
     "text": [
      "╒═════════╤═══════════════╕\n",
      "│   Tahun │ Banyak UMKM   │\n",
      "╞═════════╪═══════════════╡\n",
      "│    2017 │ 91,753        │\n",
      "├─────────┼───────────────┤\n",
      "│    2018 │ 97,429        │\n",
      "├─────────┼───────────────┤\n",
      "│    2019 │ 103,456       │\n",
      "├─────────┼───────────────┤\n",
      "│    2020 │ 109,860       │\n",
      "├─────────┼───────────────┤\n",
      "│    2021 │ 116,656       │\n",
      "╘═════════╧═══════════════╛\n"
     ]
    }
   ],
   "source": [
    "# Mengatahui tahun yang ada di dataset\n",
    "tahun = umkm['tahun'].unique()\n",
    "# List untuk menyimpan banyaknya UMKM pada masing-masing tahun\n",
    "banyak_umkm_kota_bogor = []\n",
    "# Looping untuk mengetahui banyaknya UMKM pada masing-masing tahun dan nilainya di input ke list banyak_umkm\n",
    "for t in tahun:\n",
    "    kota_bogor = umkm.loc[(umkm['nama_kabupaten_kota']=='KOTA BOGOR')&(umkm['tahun']==t)]\n",
    "    jumlah_kota_bogor = kota_bogor['jumlah_umkm'].sum()\n",
    "    banyak_umkm_kota_bogor.append(jumlah_kota_bogor)\n",
    "\n",
    "# Menampilkan hasil dalam bentuk tabel\n",
    "table_kota_bogor = {'Tahun':tahun,\n",
    "                    'Banyak UMKM': ['{:,}'.format(i) for i in banyak_umkm_kota_bogor]}\n",
    "print(tabulate(table_kota_bogor, headers='keys', tablefmt='fancy_grid'))"
   ]
  },
  {
   "cell_type": "code",
   "execution_count": 34,
   "metadata": {},
   "outputs": [
    {
     "data": {
      "image/png": "[encoded data removed]",
      "text/plain": [
       "<Figure size 432x432 with 1 Axes>"
      ]
     },
     "metadata": {},
     "output_type": "display_data"
    }
   ],
   "source": [
    "# Plot untuk membandingkan jumlah UMKM di Kota Bogor daru tahun 2017 - 2021\n",
    "colors = ('#8B4513', '#FFF8DC', '#93C572', '#E67F0D', '#D53032')\n",
    "plt.figure(figsize=(6,6))\n",
    "plt.pie(banyak_umkm_kota_bogor, labels = tahun, autopct='%1.0f%%', colors=colors, explode=(0, 0, 0, 0, 0.1))\n",
    "plt.title('Diagaram Banyak UMKM di Kota Bogor')\n",
    "plt.show()"
   ]
  },
  {
   "cell_type": "code",
   "execution_count": 35,
   "metadata": {},
   "outputs": [
    {
     "name": "stdout",
     "output_type": "stream",
     "text": [
      "Pertumbuhan UMKM di Kota Bogor adalah 27.14 % sejak 2017\n"
     ]
    }
   ],
   "source": [
    "# Persentasi pertumbuhan UMKM di Kota Bogor dari tahun 2017-2021\n",
    "persen_kota_bogor = ((banyak_umkm_kota_bogor[4]-banyak_umkm_kota_bogor[0])/banyak_umkm_kota_bogor[0]) * 100\n",
    "print('Pertumbuhan UMKM di Kota Bogor adalah','{:.2f}'.format(persen_kota_bogor),'% sejak 2017')"
   ]
  },
  {
   "attachments": {},
   "cell_type": "markdown",
   "metadata": {},
   "source": [
    "Mari kita lihat perbandingan banyak UMKM di Kota Bogor bedasarkan kategori usaha tiap tahun 2021"
   ]
  },
  {
   "cell_type": "code",
   "execution_count": 36,
   "metadata": {},
   "outputs": [
    {
     "data": {
      "text/html": [
       "<div>\n",
       "<style scoped>\n",
       "    .dataframe tbody tr th:only-of-type {\n",
       "        vertical-align: middle;\n",
       "    }\n",
       "\n",
       "    .dataframe tbody tr th {\n",
       "        vertical-align: top;\n",
       "    }\n",
       "\n",
       "    .dataframe thead th {\n",
       "        text-align: right;\n",
       "    }\n",
       "</style>\n",
       "<table border=\"1\" class=\"dataframe\">\n",
       "  <thead>\n",
       "    <tr style=\"text-align: right;\">\n",
       "      <th></th>\n",
       "      <th>id</th>\n",
       "      <th>kode_provinsi</th>\n",
       "      <th>nama_provinsi</th>\n",
       "      <th>kode_kabupaten_kota</th>\n",
       "      <th>nama_kabupaten_kota</th>\n",
       "      <th>kategori_usaha</th>\n",
       "      <th>jumlah_umkm</th>\n",
       "      <th>satuan</th>\n",
       "      <th>tahun</th>\n",
       "    </tr>\n",
       "  </thead>\n",
       "  <tbody>\n",
       "    <tr>\n",
       "      <th>1266</th>\n",
       "      <td>1267</td>\n",
       "      <td>32</td>\n",
       "      <td>JAWA BARAT</td>\n",
       "      <td>3271</td>\n",
       "      <td>KOTA BOGOR</td>\n",
       "      <td>KULINER</td>\n",
       "      <td>41743</td>\n",
       "      <td>UNIT</td>\n",
       "      <td>2021</td>\n",
       "    </tr>\n",
       "    <tr>\n",
       "      <th>1267</th>\n",
       "      <td>1268</td>\n",
       "      <td>32</td>\n",
       "      <td>JAWA BARAT</td>\n",
       "      <td>3271</td>\n",
       "      <td>KOTA BOGOR</td>\n",
       "      <td>MAKANAN</td>\n",
       "      <td>30531</td>\n",
       "      <td>UNIT</td>\n",
       "      <td>2021</td>\n",
       "    </tr>\n",
       "    <tr>\n",
       "      <th>1269</th>\n",
       "      <td>1270</td>\n",
       "      <td>32</td>\n",
       "      <td>JAWA BARAT</td>\n",
       "      <td>3271</td>\n",
       "      <td>KOTA BOGOR</td>\n",
       "      <td>JASA/LAINNYA</td>\n",
       "      <td>13190</td>\n",
       "      <td>UNIT</td>\n",
       "      <td>2021</td>\n",
       "    </tr>\n",
       "    <tr>\n",
       "      <th>1263</th>\n",
       "      <td>1264</td>\n",
       "      <td>32</td>\n",
       "      <td>JAWA BARAT</td>\n",
       "      <td>3271</td>\n",
       "      <td>KOTA BOGOR</td>\n",
       "      <td>CRAFT</td>\n",
       "      <td>9699</td>\n",
       "      <td>UNIT</td>\n",
       "      <td>2021</td>\n",
       "    </tr>\n",
       "    <tr>\n",
       "      <th>1264</th>\n",
       "      <td>1265</td>\n",
       "      <td>32</td>\n",
       "      <td>JAWA BARAT</td>\n",
       "      <td>3271</td>\n",
       "      <td>KOTA BOGOR</td>\n",
       "      <td>FASHION</td>\n",
       "      <td>9466</td>\n",
       "      <td>UNIT</td>\n",
       "      <td>2021</td>\n",
       "    </tr>\n",
       "    <tr>\n",
       "      <th>1265</th>\n",
       "      <td>1266</td>\n",
       "      <td>32</td>\n",
       "      <td>JAWA BARAT</td>\n",
       "      <td>3271</td>\n",
       "      <td>KOTA BOGOR</td>\n",
       "      <td>KONVEKSI</td>\n",
       "      <td>5780</td>\n",
       "      <td>UNIT</td>\n",
       "      <td>2021</td>\n",
       "    </tr>\n",
       "    <tr>\n",
       "      <th>1268</th>\n",
       "      <td>1269</td>\n",
       "      <td>32</td>\n",
       "      <td>JAWA BARAT</td>\n",
       "      <td>3271</td>\n",
       "      <td>KOTA BOGOR</td>\n",
       "      <td>MINUMAN</td>\n",
       "      <td>5664</td>\n",
       "      <td>UNIT</td>\n",
       "      <td>2021</td>\n",
       "    </tr>\n",
       "    <tr>\n",
       "      <th>1260</th>\n",
       "      <td>1261</td>\n",
       "      <td>32</td>\n",
       "      <td>JAWA BARAT</td>\n",
       "      <td>3271</td>\n",
       "      <td>KOTA BOGOR</td>\n",
       "      <td>AKSESORIS</td>\n",
       "      <td>272</td>\n",
       "      <td>UNIT</td>\n",
       "      <td>2021</td>\n",
       "    </tr>\n",
       "    <tr>\n",
       "      <th>1261</th>\n",
       "      <td>1262</td>\n",
       "      <td>32</td>\n",
       "      <td>JAWA BARAT</td>\n",
       "      <td>3271</td>\n",
       "      <td>KOTA BOGOR</td>\n",
       "      <td>BATIK</td>\n",
       "      <td>272</td>\n",
       "      <td>UNIT</td>\n",
       "      <td>2021</td>\n",
       "    </tr>\n",
       "    <tr>\n",
       "      <th>1262</th>\n",
       "      <td>1263</td>\n",
       "      <td>32</td>\n",
       "      <td>JAWA BARAT</td>\n",
       "      <td>3271</td>\n",
       "      <td>KOTA BOGOR</td>\n",
       "      <td>BORDIR</td>\n",
       "      <td>39</td>\n",
       "      <td>UNIT</td>\n",
       "      <td>2021</td>\n",
       "    </tr>\n",
       "  </tbody>\n",
       "</table>\n",
       "</div>"
      ],
      "text/plain": [
       "        id  kode_provinsi nama_provinsi  kode_kabupaten_kota  \\\n",
       "1266  1267             32    JAWA BARAT                 3271   \n",
       "1267  1268             32    JAWA BARAT                 3271   \n",
       "1269  1270             32    JAWA BARAT                 3271   \n",
       "1263  1264             32    JAWA BARAT                 3271   \n",
       "1264  1265             32    JAWA BARAT                 3271   \n",
       "1265  1266             32    JAWA BARAT                 3271   \n",
       "1268  1269             32    JAWA BARAT                 3271   \n",
       "1260  1261             32    JAWA BARAT                 3271   \n",
       "1261  1262             32    JAWA BARAT                 3271   \n",
       "1262  1263             32    JAWA BARAT                 3271   \n",
       "\n",
       "     nama_kabupaten_kota kategori_usaha  jumlah_umkm satuan  tahun  \n",
       "1266          KOTA BOGOR        KULINER        41743   UNIT   2021  \n",
       "1267          KOTA BOGOR        MAKANAN        30531   UNIT   2021  \n",
       "1269          KOTA BOGOR   JASA/LAINNYA        13190   UNIT   2021  \n",
       "1263          KOTA BOGOR          CRAFT         9699   UNIT   2021  \n",
       "1264          KOTA BOGOR        FASHION         9466   UNIT   2021  \n",
       "1265          KOTA BOGOR       KONVEKSI         5780   UNIT   2021  \n",
       "1268          KOTA BOGOR        MINUMAN         5664   UNIT   2021  \n",
       "1260          KOTA BOGOR      AKSESORIS          272   UNIT   2021  \n",
       "1261          KOTA BOGOR          BATIK          272   UNIT   2021  \n",
       "1262          KOTA BOGOR         BORDIR           39   UNIT   2021  "
      ]
     },
     "execution_count": 36,
     "metadata": {},
     "output_type": "execute_result"
    }
   ],
   "source": [
    "# Memfokuskon dataset pada kota bogor dan tahun 2021\n",
    "kota_bogor_2021 = umkm.loc[(umkm['nama_kabupaten_kota']=='KOTA BOGOR')&(umkm['tahun']==2021)]\n",
    "\n",
    "# Dataset diurutkan menurun berdasarkan jumlah umkm dari kategori usaha\n",
    "kota_bogor_2021.sort_values(['jumlah_umkm'],ascending=False)"
   ]
  },
  {
   "attachments": {},
   "cell_type": "markdown",
   "metadata": {},
   "source": [
    "Dapat dilihat pada tabel di atas, bahwa jenis UMKM tertinggi di Kota Bogor tahun 2021 adalah KULINER dan jenis UMKM terendah adalah BORDIR"
   ]
  },
  {
   "cell_type": "code",
   "execution_count": 37,
   "metadata": {},
   "outputs": [
    {
     "data": {
      "text/plain": [
       "<AxesSubplot: xlabel='Banyak UMKM', ylabel='Kategori Usaha'>"
      ]
     },
     "execution_count": 37,
     "metadata": {},
     "output_type": "execute_result"
    },
    {
     "data": {
      "image/png": "[encoded data removed]",
      "text/plain": [
       "<Figure size 1008x432 with 1 Axes>"
      ]
     },
     "metadata": {
      "needs_background": "light"
     },
     "output_type": "display_data"
    }
   ],
   "source": [
    "# Diagram untuk melihat banyak UMKM di Kota Bogor tahun 2021 berdasarkan kategori usaha\n",
    "kota_bogor_2021.plot(kind='barh', y='jumlah_umkm', x='kategori_usaha',\n",
    "figsize=(14,6), ylabel='Kategori Usaha', xlabel='Banyak UMKM',rot=False)"
   ]
  }
 ],
 "metadata": {
  "kernelspec": {
   "display_name": "Python 3",
   "language": "python",
   "name": "python3"
  },
  "language_info": {
   "codemirror_mode": {
    "name": "ipython",
    "version": 3
   },
   "file_extension": ".py",
   "mimetype": "text/x-python",
   "name": "python",
   "nbconvert_exporter": "python",
   "pygments_lexer": "ipython3",
   "version": "3.10.4"
  },
  "orig_nbformat": 4,
  "vscode": {
   "interpreter": {
    "hash": "df95319d8ce4e1d89f5365ae10992bc1f65da593082b1d264e8f529830ec2f02"
   }
  }
 },
 "nbformat": 4,
 "nbformat_minor": 2
}
